{
  "nbformat": 4,
  "nbformat_minor": 0,
  "metadata": {
    "colab": {
      "provenance": [],
      "authorship_tag": "ABX9TyM1L7Mw0Mh/lYZE9d/wbvQI",
      "include_colab_link": true
    },
    "kernelspec": {
      "name": "python3",
      "display_name": "Python 3"
    },
    "language_info": {
      "name": "python"
    }
  },
  "cells": [
    {
      "cell_type": "markdown",
      "metadata": {
        "id": "view-in-github",
        "colab_type": "text"
      },
      "source": [
        "<a href=\"https://colab.research.google.com/github/Kirbit04/Learning-K-Nearest-Neighbor-Algorithm/blob/main/Learning_KNN.ipynb\" target=\"_parent\"><img src=\"https://colab.research.google.com/assets/colab-badge.svg\" alt=\"Open In Colab\"/></a>"
      ]
    },
    {
      "cell_type": "markdown",
      "source": [
        "**Learning to Create a model using K Nearest Neighbour classifier**\n",
        "Reference:[Article by KdNuggets](https://buff.ly/3MyEnEV)"
      ],
      "metadata": {
        "id": "1kmuDBO1CiRV"
      }
    },
    {
      "cell_type": "markdown",
      "source": [
        "** INTRODUCTION**\n",
        " This is a simple machine learning model that makes predictions of the target data point based on the majority class of the K Nearest data point in the feature space. A practical example is you determining what to wear for a certain weather based on what your neighbour wore. It assumes that similar things exist in proximity. It's considered an intuitive and simple algorithm."
      ],
      "metadata": {
        "id": "vhyyeGvqBTTy"
      }
    },
    {
      "cell_type": "markdown",
      "source": [
        "DATASET: The dataset will be created using a dictionary. Where, playing golf or not is the target and observations, temprature, humidity and wind are in the feature space.\n",
        "[Dataset Visual Representation](https://miro.medium.com/v2/resize:fit:720/format:webp/1*I0ERfwsbpdnnUMVOSN1cng.png)"
      ],
      "metadata": {
        "id": "LIAWgtPvEAQ_"
      }
    },
    {
      "cell_type": "code",
      "execution_count": 11,
      "metadata": {
        "colab": {
          "base_uri": "https://localhost:8080/"
        },
        "id": "EqpLIdEaA4cY",
        "outputId": "53760371-1369-4a8b-d0c5-44d8e4f8e868"
      },
      "outputs": [
        {
          "output_type": "stream",
          "name": "stdout",
          "text": [
            "     Outlook  Temperature  Humidity   Wind Play\n",
            "0      sunny         85.0      85.0  False   No\n",
            "1      sunny         80.0      90.0   True   No\n",
            "2   overcast         83.0      78.0  False  Yes\n",
            "3      rainy         70.0      96.0  False  Yes\n",
            "4      rainy         68.0      80.0  False  Yes\n",
            "5      rainy         65.0      70.0   True   No\n",
            "6   overcast         64.0      65.0   True  Yes\n",
            "7      sunny         72.0      95.0  False   No\n",
            "8      sunny         69.0      70.0  False  Yes\n",
            "9      rainy         75.0      80.0  False  Yes\n",
            "10     sunny         75.0      70.0   True  Yes\n",
            "11  overcast         72.0      90.0   True  Yes\n",
            "12  overcast         81.0      75.0  False  Yes\n",
            "13     rainy         71.0      80.0   True   No\n",
            "14     sunny         81.0      88.0   True   No\n",
            "15  overcast         74.0      92.0  False  Yes\n",
            "16     rainy         76.0      85.0  False  Yes\n",
            "17     sunny         78.0      75.0   True   No\n",
            "18     sunny         82.0      92.0  False   No\n",
            "19     rainy         67.0      90.0   True   No\n",
            "20  overcast         85.0      85.0   True  Yes\n",
            "21     rainy         73.0      88.0  False  Yes\n",
            "22     sunny         88.0      65.0   True  Yes\n",
            "23  overcast         77.0      70.0  False  Yes\n",
            "24     sunny         79.0      60.0  False  Yes\n",
            "25  overcast         80.0      95.0   True  Yes\n",
            "26     rainy         66.0      70.0  False   No\n",
            "27  overcast         84.0      78.0  False  Yes\n"
          ]
        }
      ],
      "source": [
        "#importing the libraries\n",
        "from sklearn.model_selection import train_test_split\n",
        "from sklearn.metrics import accuracy_score\n",
        "import pandas as pd\n",
        "import numpy as np\n",
        "\n",
        "#making the dataset\n",
        "dataset_dict = {\n",
        "    'Outlook': ['sunny', 'sunny', 'overcast', 'rainy', 'rainy', 'rainy', 'overcast', 'sunny', 'sunny', 'rainy', 'sunny', 'overcast', 'overcast', 'rainy', 'sunny', 'overcast', 'rainy', 'sunny', 'sunny', 'rainy', 'overcast', 'rainy', 'sunny', 'overcast', 'sunny', 'overcast', 'rainy', 'overcast'],\n",
        "    'Temperature': [85.0, 80.0, 83.0, 70.0, 68.0, 65.0, 64.0, 72.0, 69.0, 75.0, 75.0, 72.0, 81.0, 71.0, 81.0, 74.0, 76.0, 78.0, 82.0, 67.0, 85.0, 73.0, 88.0, 77.0, 79.0, 80.0, 66.0, 84.0],\n",
        "    'Humidity': [85.0, 90.0, 78.0, 96.0, 80.0, 70.0, 65.0, 95.0, 70.0, 80.0, 70.0, 90.0, 75.0, 80.0, 88.0, 92.0, 85.0, 75.0, 92.0, 90.0, 85.0, 88.0, 65.0, 70.0, 60.0, 95.0, 70.0, 78.0],\n",
        "    'Wind': [False, True, False, False, False, True, True, False, False, False, True, True, False, True, True, False, False, True, False, True, True, False, True, False, False, True, False, False],\n",
        "    'Play': ['No', 'No', 'Yes', 'Yes', 'Yes', 'No', 'Yes', 'No', 'Yes', 'Yes', 'Yes', 'Yes', 'Yes', 'No', 'No', 'Yes', 'Yes', 'No', 'No', 'No', 'Yes', 'Yes', 'Yes', 'Yes', 'Yes', 'Yes', 'No', 'Yes']\n",
        "}\n",
        "original_df = pd.DataFrame(dataset_dict)\n",
        "\n",
        "print(original_df)"
      ]
    },
    {
      "cell_type": "code",
      "source": [
        "original_df.info()"
      ],
      "metadata": {
        "colab": {
          "base_uri": "https://localhost:8080/"
        },
        "id": "uC_-KYBNOUtg",
        "outputId": "521d0cb5-a374-427b-bf16-5107afe164de"
      },
      "execution_count": 12,
      "outputs": [
        {
          "output_type": "stream",
          "name": "stdout",
          "text": [
            "<class 'pandas.core.frame.DataFrame'>\n",
            "RangeIndex: 28 entries, 0 to 27\n",
            "Data columns (total 5 columns):\n",
            " #   Column       Non-Null Count  Dtype  \n",
            "---  ------       --------------  -----  \n",
            " 0   Outlook      28 non-null     object \n",
            " 1   Temperature  28 non-null     float64\n",
            " 2   Humidity     28 non-null     float64\n",
            " 3   Wind         28 non-null     bool   \n",
            " 4   Play         28 non-null     object \n",
            "dtypes: bool(1), float64(2), object(2)\n",
            "memory usage: 1.0+ KB\n"
          ]
        }
      ]
    },
    {
      "cell_type": "code",
      "source": [
        "original_df.describe()"
      ],
      "metadata": {
        "colab": {
          "base_uri": "https://localhost:8080/",
          "height": 300
        },
        "id": "ft04IrEvObL4",
        "outputId": "ecd092d3-a8a6-467f-acb3-1b98e5fe0075"
      },
      "execution_count": 13,
      "outputs": [
        {
          "output_type": "execute_result",
          "data": {
            "text/plain": [
              "       Temperature   Humidity\n",
              "count    28.000000  28.000000\n",
              "mean     75.714286  80.607143\n",
              "std       6.710175  10.354242\n",
              "min      64.000000  60.000000\n",
              "25%      70.750000  70.000000\n",
              "50%      75.500000  80.000000\n",
              "75%      81.000000  90.000000\n",
              "max      88.000000  96.000000"
            ],
            "text/html": [
              "\n",
              "  <div id=\"df-8301a3d6-0467-4ecd-8639-3bb3eecf9037\" class=\"colab-df-container\">\n",
              "    <div>\n",
              "<style scoped>\n",
              "    .dataframe tbody tr th:only-of-type {\n",
              "        vertical-align: middle;\n",
              "    }\n",
              "\n",
              "    .dataframe tbody tr th {\n",
              "        vertical-align: top;\n",
              "    }\n",
              "\n",
              "    .dataframe thead th {\n",
              "        text-align: right;\n",
              "    }\n",
              "</style>\n",
              "<table border=\"1\" class=\"dataframe\">\n",
              "  <thead>\n",
              "    <tr style=\"text-align: right;\">\n",
              "      <th></th>\n",
              "      <th>Temperature</th>\n",
              "      <th>Humidity</th>\n",
              "    </tr>\n",
              "  </thead>\n",
              "  <tbody>\n",
              "    <tr>\n",
              "      <th>count</th>\n",
              "      <td>28.000000</td>\n",
              "      <td>28.000000</td>\n",
              "    </tr>\n",
              "    <tr>\n",
              "      <th>mean</th>\n",
              "      <td>75.714286</td>\n",
              "      <td>80.607143</td>\n",
              "    </tr>\n",
              "    <tr>\n",
              "      <th>std</th>\n",
              "      <td>6.710175</td>\n",
              "      <td>10.354242</td>\n",
              "    </tr>\n",
              "    <tr>\n",
              "      <th>min</th>\n",
              "      <td>64.000000</td>\n",
              "      <td>60.000000</td>\n",
              "    </tr>\n",
              "    <tr>\n",
              "      <th>25%</th>\n",
              "      <td>70.750000</td>\n",
              "      <td>70.000000</td>\n",
              "    </tr>\n",
              "    <tr>\n",
              "      <th>50%</th>\n",
              "      <td>75.500000</td>\n",
              "      <td>80.000000</td>\n",
              "    </tr>\n",
              "    <tr>\n",
              "      <th>75%</th>\n",
              "      <td>81.000000</td>\n",
              "      <td>90.000000</td>\n",
              "    </tr>\n",
              "    <tr>\n",
              "      <th>max</th>\n",
              "      <td>88.000000</td>\n",
              "      <td>96.000000</td>\n",
              "    </tr>\n",
              "  </tbody>\n",
              "</table>\n",
              "</div>\n",
              "    <div class=\"colab-df-buttons\">\n",
              "\n",
              "  <div class=\"colab-df-container\">\n",
              "    <button class=\"colab-df-convert\" onclick=\"convertToInteractive('df-8301a3d6-0467-4ecd-8639-3bb3eecf9037')\"\n",
              "            title=\"Convert this dataframe to an interactive table.\"\n",
              "            style=\"display:none;\">\n",
              "\n",
              "  <svg xmlns=\"http://www.w3.org/2000/svg\" height=\"24px\" viewBox=\"0 -960 960 960\">\n",
              "    <path d=\"M120-120v-720h720v720H120Zm60-500h600v-160H180v160Zm220 220h160v-160H400v160Zm0 220h160v-160H400v160ZM180-400h160v-160H180v160Zm440 0h160v-160H620v160ZM180-180h160v-160H180v160Zm440 0h160v-160H620v160Z\"/>\n",
              "  </svg>\n",
              "    </button>\n",
              "\n",
              "  <style>\n",
              "    .colab-df-container {\n",
              "      display:flex;\n",
              "      gap: 12px;\n",
              "    }\n",
              "\n",
              "    .colab-df-convert {\n",
              "      background-color: #E8F0FE;\n",
              "      border: none;\n",
              "      border-radius: 50%;\n",
              "      cursor: pointer;\n",
              "      display: none;\n",
              "      fill: #1967D2;\n",
              "      height: 32px;\n",
              "      padding: 0 0 0 0;\n",
              "      width: 32px;\n",
              "    }\n",
              "\n",
              "    .colab-df-convert:hover {\n",
              "      background-color: #E2EBFA;\n",
              "      box-shadow: 0px 1px 2px rgba(60, 64, 67, 0.3), 0px 1px 3px 1px rgba(60, 64, 67, 0.15);\n",
              "      fill: #174EA6;\n",
              "    }\n",
              "\n",
              "    .colab-df-buttons div {\n",
              "      margin-bottom: 4px;\n",
              "    }\n",
              "\n",
              "    [theme=dark] .colab-df-convert {\n",
              "      background-color: #3B4455;\n",
              "      fill: #D2E3FC;\n",
              "    }\n",
              "\n",
              "    [theme=dark] .colab-df-convert:hover {\n",
              "      background-color: #434B5C;\n",
              "      box-shadow: 0px 1px 3px 1px rgba(0, 0, 0, 0.15);\n",
              "      filter: drop-shadow(0px 1px 2px rgba(0, 0, 0, 0.3));\n",
              "      fill: #FFFFFF;\n",
              "    }\n",
              "  </style>\n",
              "\n",
              "    <script>\n",
              "      const buttonEl =\n",
              "        document.querySelector('#df-8301a3d6-0467-4ecd-8639-3bb3eecf9037 button.colab-df-convert');\n",
              "      buttonEl.style.display =\n",
              "        google.colab.kernel.accessAllowed ? 'block' : 'none';\n",
              "\n",
              "      async function convertToInteractive(key) {\n",
              "        const element = document.querySelector('#df-8301a3d6-0467-4ecd-8639-3bb3eecf9037');\n",
              "        const dataTable =\n",
              "          await google.colab.kernel.invokeFunction('convertToInteractive',\n",
              "                                                    [key], {});\n",
              "        if (!dataTable) return;\n",
              "\n",
              "        const docLinkHtml = 'Like what you see? Visit the ' +\n",
              "          '<a target=\"_blank\" href=https://colab.research.google.com/notebooks/data_table.ipynb>data table notebook</a>'\n",
              "          + ' to learn more about interactive tables.';\n",
              "        element.innerHTML = '';\n",
              "        dataTable['output_type'] = 'display_data';\n",
              "        await google.colab.output.renderOutput(dataTable, element);\n",
              "        const docLink = document.createElement('div');\n",
              "        docLink.innerHTML = docLinkHtml;\n",
              "        element.appendChild(docLink);\n",
              "      }\n",
              "    </script>\n",
              "  </div>\n",
              "\n",
              "\n",
              "<div id=\"df-7a4d8e83-7c86-496b-b77c-ece50964699f\">\n",
              "  <button class=\"colab-df-quickchart\" onclick=\"quickchart('df-7a4d8e83-7c86-496b-b77c-ece50964699f')\"\n",
              "            title=\"Suggest charts\"\n",
              "            style=\"display:none;\">\n",
              "\n",
              "<svg xmlns=\"http://www.w3.org/2000/svg\" height=\"24px\"viewBox=\"0 0 24 24\"\n",
              "     width=\"24px\">\n",
              "    <g>\n",
              "        <path d=\"M19 3H5c-1.1 0-2 .9-2 2v14c0 1.1.9 2 2 2h14c1.1 0 2-.9 2-2V5c0-1.1-.9-2-2-2zM9 17H7v-7h2v7zm4 0h-2V7h2v10zm4 0h-2v-4h2v4z\"/>\n",
              "    </g>\n",
              "</svg>\n",
              "  </button>\n",
              "\n",
              "<style>\n",
              "  .colab-df-quickchart {\n",
              "      --bg-color: #E8F0FE;\n",
              "      --fill-color: #1967D2;\n",
              "      --hover-bg-color: #E2EBFA;\n",
              "      --hover-fill-color: #174EA6;\n",
              "      --disabled-fill-color: #AAA;\n",
              "      --disabled-bg-color: #DDD;\n",
              "  }\n",
              "\n",
              "  [theme=dark] .colab-df-quickchart {\n",
              "      --bg-color: #3B4455;\n",
              "      --fill-color: #D2E3FC;\n",
              "      --hover-bg-color: #434B5C;\n",
              "      --hover-fill-color: #FFFFFF;\n",
              "      --disabled-bg-color: #3B4455;\n",
              "      --disabled-fill-color: #666;\n",
              "  }\n",
              "\n",
              "  .colab-df-quickchart {\n",
              "    background-color: var(--bg-color);\n",
              "    border: none;\n",
              "    border-radius: 50%;\n",
              "    cursor: pointer;\n",
              "    display: none;\n",
              "    fill: var(--fill-color);\n",
              "    height: 32px;\n",
              "    padding: 0;\n",
              "    width: 32px;\n",
              "  }\n",
              "\n",
              "  .colab-df-quickchart:hover {\n",
              "    background-color: var(--hover-bg-color);\n",
              "    box-shadow: 0 1px 2px rgba(60, 64, 67, 0.3), 0 1px 3px 1px rgba(60, 64, 67, 0.15);\n",
              "    fill: var(--button-hover-fill-color);\n",
              "  }\n",
              "\n",
              "  .colab-df-quickchart-complete:disabled,\n",
              "  .colab-df-quickchart-complete:disabled:hover {\n",
              "    background-color: var(--disabled-bg-color);\n",
              "    fill: var(--disabled-fill-color);\n",
              "    box-shadow: none;\n",
              "  }\n",
              "\n",
              "  .colab-df-spinner {\n",
              "    border: 2px solid var(--fill-color);\n",
              "    border-color: transparent;\n",
              "    border-bottom-color: var(--fill-color);\n",
              "    animation:\n",
              "      spin 1s steps(1) infinite;\n",
              "  }\n",
              "\n",
              "  @keyframes spin {\n",
              "    0% {\n",
              "      border-color: transparent;\n",
              "      border-bottom-color: var(--fill-color);\n",
              "      border-left-color: var(--fill-color);\n",
              "    }\n",
              "    20% {\n",
              "      border-color: transparent;\n",
              "      border-left-color: var(--fill-color);\n",
              "      border-top-color: var(--fill-color);\n",
              "    }\n",
              "    30% {\n",
              "      border-color: transparent;\n",
              "      border-left-color: var(--fill-color);\n",
              "      border-top-color: var(--fill-color);\n",
              "      border-right-color: var(--fill-color);\n",
              "    }\n",
              "    40% {\n",
              "      border-color: transparent;\n",
              "      border-right-color: var(--fill-color);\n",
              "      border-top-color: var(--fill-color);\n",
              "    }\n",
              "    60% {\n",
              "      border-color: transparent;\n",
              "      border-right-color: var(--fill-color);\n",
              "    }\n",
              "    80% {\n",
              "      border-color: transparent;\n",
              "      border-right-color: var(--fill-color);\n",
              "      border-bottom-color: var(--fill-color);\n",
              "    }\n",
              "    90% {\n",
              "      border-color: transparent;\n",
              "      border-bottom-color: var(--fill-color);\n",
              "    }\n",
              "  }\n",
              "</style>\n",
              "\n",
              "  <script>\n",
              "    async function quickchart(key) {\n",
              "      const quickchartButtonEl =\n",
              "        document.querySelector('#' + key + ' button');\n",
              "      quickchartButtonEl.disabled = true;  // To prevent multiple clicks.\n",
              "      quickchartButtonEl.classList.add('colab-df-spinner');\n",
              "      try {\n",
              "        const charts = await google.colab.kernel.invokeFunction(\n",
              "            'suggestCharts', [key], {});\n",
              "      } catch (error) {\n",
              "        console.error('Error during call to suggestCharts:', error);\n",
              "      }\n",
              "      quickchartButtonEl.classList.remove('colab-df-spinner');\n",
              "      quickchartButtonEl.classList.add('colab-df-quickchart-complete');\n",
              "    }\n",
              "    (() => {\n",
              "      let quickchartButtonEl =\n",
              "        document.querySelector('#df-7a4d8e83-7c86-496b-b77c-ece50964699f button');\n",
              "      quickchartButtonEl.style.display =\n",
              "        google.colab.kernel.accessAllowed ? 'block' : 'none';\n",
              "    })();\n",
              "  </script>\n",
              "</div>\n",
              "\n",
              "    </div>\n",
              "  </div>\n"
            ],
            "application/vnd.google.colaboratory.intrinsic+json": {
              "type": "dataframe",
              "summary": "{\n  \"name\": \"original_df\",\n  \"rows\": 8,\n  \"fields\": [\n    {\n      \"column\": \"Temperature\",\n      \"properties\": {\n        \"dtype\": \"number\",\n        \"std\": 28.52532026242787,\n        \"min\": 6.710175484028345,\n        \"max\": 88.0,\n        \"num_unique_values\": 8,\n        \"samples\": [\n          75.71428571428571,\n          75.5,\n          28.0\n        ],\n        \"semantic_type\": \"\",\n        \"description\": \"\"\n      }\n    },\n    {\n      \"column\": \"Humidity\",\n      \"properties\": {\n        \"dtype\": \"number\",\n        \"std\": 30.370494073931606,\n        \"min\": 10.354241520281311,\n        \"max\": 96.0,\n        \"num_unique_values\": 8,\n        \"samples\": [\n          80.60714285714286,\n          80.0,\n          28.0\n        ],\n        \"semantic_type\": \"\",\n        \"description\": \"\"\n      }\n    }\n  ]\n}"
            }
          },
          "metadata": {},
          "execution_count": 13
        }
      ]
    },
    {
      "cell_type": "code",
      "source": [
        "from sklearn.preprocessing import StandardScaler\n",
        "\n",
        "#preprocessing the data, where the get_dummies() is used to change categorical variables into 0/1 equivalents and dtype is set to interger.\n",
        "df = pd.get_dummies(original_df, columns=['Outlook'], prefix='', prefix_sep='', dtype=int)\n",
        "#astype() is used to change datatypes\n",
        "df['Wind'] = df['Wind'].astype(int)\n",
        "df['Play'] = (df['Play'] == 'Yes').astype(int)\n",
        "df = df[['sunny','rainy','overcast','Temperature','Humidity','Wind','Play']]\n",
        "\n",
        "# Split data into a training set and a testing set and standardize features\n",
        "X, y = df.drop(columns='Play'), df['Play']\n",
        "X_train, X_test, y_train, y_test = train_test_split(X, y, train_size=0.5, shuffle=False)\n",
        "\n",
        "scaler = StandardScaler()\n",
        "float_cols = X_train.select_dtypes(include=['float64']).columns\n",
        "X_train[float_cols] = scaler.fit_transform(X_train[float_cols])\n",
        "X_test[float_cols] = scaler.transform(X_test[float_cols])\n",
        "\n",
        "# Print results\n",
        "print(pd.concat([X_train, y_train], axis=1).round(2), '\\n')\n",
        "print(pd.concat([X_test, y_test], axis=1).round(2), '\\n')"
      ],
      "metadata": {
        "colab": {
          "base_uri": "https://localhost:8080/"
        },
        "id": "D-gqAXGgLiWO",
        "outputId": "b3031148-9dde-4694-f531-ad82823f6374"
      },
      "execution_count": 14,
      "outputs": [
        {
          "output_type": "stream",
          "name": "stdout",
          "text": [
            "    sunny  rainy  overcast  Temperature  Humidity  Wind  Play\n",
            "0       1      0         0         1.80      0.50     0     0\n",
            "1       1      0         0         1.02      1.02     1     0\n",
            "2       0      0         1         1.49     -0.24     0     1\n",
            "3       0      1         0        -0.56      1.66     0     1\n",
            "4       0      1         0        -0.88     -0.03     0     1\n",
            "5       0      1         0        -1.35     -1.08     1     0\n",
            "6       0      0         1        -1.51     -1.61     1     1\n",
            "7       1      0         0        -0.25      1.55     0     0\n",
            "8       1      0         0        -0.72     -1.08     0     1\n",
            "9       0      1         0         0.23     -0.03     0     1\n",
            "10      1      0         0         0.23     -1.08     1     1\n",
            "11      0      0         1        -0.25      1.02     1     1\n",
            "12      0      0         1         1.17     -0.56     0     1\n",
            "13      0      1         0        -0.41     -0.03     1     0 \n",
            "\n",
            "    sunny  rainy  overcast  Temperature  Humidity  Wind  Play\n",
            "14      1      0         0         1.17      0.81     1     0\n",
            "15      0      0         1         0.07      1.24     0     1\n",
            "16      0      1         0         0.38      0.50     0     1\n",
            "17      1      0         0         0.70     -0.56     1     0\n",
            "18      1      0         0         1.33      1.24     0     0\n",
            "19      0      1         0        -1.04      1.02     1     0\n",
            "20      0      0         1         1.80      0.50     1     1\n",
            "21      0      1         0        -0.09      0.81     0     1\n",
            "22      1      0         0         2.28     -1.61     1     1\n",
            "23      0      0         1         0.54     -1.08     0     1\n",
            "24      1      0         0         0.86     -2.14     0     1\n",
            "25      0      0         1         1.02      1.55     1     1\n",
            "26      0      1         0        -1.20     -1.08     0     0\n",
            "27      0      0         1         1.65     -0.24     0     1 \n",
            "\n"
          ]
        }
      ]
    },
    {
      "cell_type": "markdown",
      "source": [
        "**Training Steps**"
      ],
      "metadata": {
        "id": "iTgZ30FWQNKR"
      }
    },
    {
      "cell_type": "markdown",
      "source": [
        "1. Choosing a value of K, where K is the number of neighbours to be used for evaluation.\n",
        "\n"
      ],
      "metadata": {
        "id": "aVchN_XqQRUZ"
      }
    },
    {
      "cell_type": "code",
      "source": [
        "from sklearn.neighbors import KNeighborsClassifier\n",
        "\n",
        "# Select the Number of Neighbors ('k')\n",
        "k = 5"
      ],
      "metadata": {
        "id": "UigfhSUAOsV1"
      },
      "execution_count": 15,
      "outputs": []
    },
    {
      "cell_type": "markdown",
      "source": [
        "2. Selecting a distance metric. For our case we are going to use the euclidian metric.\n",
        "For Explanation on euclidian metric:\n",
        "https://miro.medium.com/v2/resize:fit:720/format:webp/1*tqKuQD4yb5NRXj-SGrEdyQ.png\n"
      ],
      "metadata": {
        "id": "fbJZEyuaRnWR"
      }
    },
    {
      "cell_type": "code",
      "source": [
        "# Choose a Distance Metric\n",
        "distance_metric = 'euclidean'\n",
        "\n",
        "# Trying to calculate distance between ID 0 and ID 1\n",
        "print(np.linalg.norm(X_train.loc[0].values - X_train.loc[1].values))\n",
        "\n",
        "#store all the training data points and their corresponding labels\n",
        "\n",
        "# Initialize the k-NN Classifier\n",
        "knn_clf = KNeighborsClassifier(n_neighbors=k, metric=distance_metric)\n",
        "\n",
        "# \"Train\" the kNN (although no real training happens)\n",
        "knn_clf.fit(X_train, y_train)"
      ],
      "metadata": {
        "colab": {
          "base_uri": "https://localhost:8080/",
          "height": 93
        },
        "id": "aasTMh1JP7yz",
        "outputId": "566c18d3-0a81-45f5-ea05-493ec84b8d97"
      },
      "execution_count": 17,
      "outputs": [
        {
          "output_type": "stream",
          "name": "stdout",
          "text": [
            "1.3789269844186147\n"
          ]
        },
        {
          "output_type": "execute_result",
          "data": {
            "text/plain": [
              "KNeighborsClassifier(metric='euclidean')"
            ],
            "text/html": [
              "<style>#sk-container-id-3 {color: black;}#sk-container-id-3 pre{padding: 0;}#sk-container-id-3 div.sk-toggleable {background-color: white;}#sk-container-id-3 label.sk-toggleable__label {cursor: pointer;display: block;width: 100%;margin-bottom: 0;padding: 0.3em;box-sizing: border-box;text-align: center;}#sk-container-id-3 label.sk-toggleable__label-arrow:before {content: \"▸\";float: left;margin-right: 0.25em;color: #696969;}#sk-container-id-3 label.sk-toggleable__label-arrow:hover:before {color: black;}#sk-container-id-3 div.sk-estimator:hover label.sk-toggleable__label-arrow:before {color: black;}#sk-container-id-3 div.sk-toggleable__content {max-height: 0;max-width: 0;overflow: hidden;text-align: left;background-color: #f0f8ff;}#sk-container-id-3 div.sk-toggleable__content pre {margin: 0.2em;color: black;border-radius: 0.25em;background-color: #f0f8ff;}#sk-container-id-3 input.sk-toggleable__control:checked~div.sk-toggleable__content {max-height: 200px;max-width: 100%;overflow: auto;}#sk-container-id-3 input.sk-toggleable__control:checked~label.sk-toggleable__label-arrow:before {content: \"▾\";}#sk-container-id-3 div.sk-estimator input.sk-toggleable__control:checked~label.sk-toggleable__label {background-color: #d4ebff;}#sk-container-id-3 div.sk-label input.sk-toggleable__control:checked~label.sk-toggleable__label {background-color: #d4ebff;}#sk-container-id-3 input.sk-hidden--visually {border: 0;clip: rect(1px 1px 1px 1px);clip: rect(1px, 1px, 1px, 1px);height: 1px;margin: -1px;overflow: hidden;padding: 0;position: absolute;width: 1px;}#sk-container-id-3 div.sk-estimator {font-family: monospace;background-color: #f0f8ff;border: 1px dotted black;border-radius: 0.25em;box-sizing: border-box;margin-bottom: 0.5em;}#sk-container-id-3 div.sk-estimator:hover {background-color: #d4ebff;}#sk-container-id-3 div.sk-parallel-item::after {content: \"\";width: 100%;border-bottom: 1px solid gray;flex-grow: 1;}#sk-container-id-3 div.sk-label:hover label.sk-toggleable__label {background-color: #d4ebff;}#sk-container-id-3 div.sk-serial::before {content: \"\";position: absolute;border-left: 1px solid gray;box-sizing: border-box;top: 0;bottom: 0;left: 50%;z-index: 0;}#sk-container-id-3 div.sk-serial {display: flex;flex-direction: column;align-items: center;background-color: white;padding-right: 0.2em;padding-left: 0.2em;position: relative;}#sk-container-id-3 div.sk-item {position: relative;z-index: 1;}#sk-container-id-3 div.sk-parallel {display: flex;align-items: stretch;justify-content: center;background-color: white;position: relative;}#sk-container-id-3 div.sk-item::before, #sk-container-id-3 div.sk-parallel-item::before {content: \"\";position: absolute;border-left: 1px solid gray;box-sizing: border-box;top: 0;bottom: 0;left: 50%;z-index: -1;}#sk-container-id-3 div.sk-parallel-item {display: flex;flex-direction: column;z-index: 1;position: relative;background-color: white;}#sk-container-id-3 div.sk-parallel-item:first-child::after {align-self: flex-end;width: 50%;}#sk-container-id-3 div.sk-parallel-item:last-child::after {align-self: flex-start;width: 50%;}#sk-container-id-3 div.sk-parallel-item:only-child::after {width: 0;}#sk-container-id-3 div.sk-dashed-wrapped {border: 1px dashed gray;margin: 0 0.4em 0.5em 0.4em;box-sizing: border-box;padding-bottom: 0.4em;background-color: white;}#sk-container-id-3 div.sk-label label {font-family: monospace;font-weight: bold;display: inline-block;line-height: 1.2em;}#sk-container-id-3 div.sk-label-container {text-align: center;}#sk-container-id-3 div.sk-container {/* jupyter's `normalize.less` sets `[hidden] { display: none; }` but bootstrap.min.css set `[hidden] { display: none !important; }` so we also need the `!important` here to be able to override the default hidden behavior on the sphinx rendered scikit-learn.org. See: https://github.com/scikit-learn/scikit-learn/issues/21755 */display: inline-block !important;position: relative;}#sk-container-id-3 div.sk-text-repr-fallback {display: none;}</style><div id=\"sk-container-id-3\" class=\"sk-top-container\"><div class=\"sk-text-repr-fallback\"><pre>KNeighborsClassifier(metric=&#x27;euclidean&#x27;)</pre><b>In a Jupyter environment, please rerun this cell to show the HTML representation or trust the notebook. <br />On GitHub, the HTML representation is unable to render, please try loading this page with nbviewer.org.</b></div><div class=\"sk-container\" hidden><div class=\"sk-item\"><div class=\"sk-estimator sk-toggleable\"><input class=\"sk-toggleable__control sk-hidden--visually\" id=\"sk-estimator-id-3\" type=\"checkbox\" checked><label for=\"sk-estimator-id-3\" class=\"sk-toggleable__label sk-toggleable__label-arrow\">KNeighborsClassifier</label><div class=\"sk-toggleable__content\"><pre>KNeighborsClassifier(metric=&#x27;euclidean&#x27;)</pre></div></div></div></div></div>"
            ]
          },
          "metadata": {},
          "execution_count": 17
        }
      ]
    },
    {
      "cell_type": "code",
      "source": [
        "#3 Doing the distance calculation using the distance metric chosen above\n",
        "\n",
        "from scipy.spatial import distance\n",
        "\n",
        "# Compute the distances from the first row of X_test to all rows in X_train\n",
        "distances = distance.cdist(X_test.iloc[0:1], X_train, metric='euclidean')\n",
        "\n",
        "# Create a DataFrame to display the distances\n",
        "distance_df = pd.DataFrame({\n",
        "    'Train_ID': X_train.index,\n",
        "    'Distance': distances[0].round(2),\n",
        "    'Label': y_train\n",
        "}).set_index('Train_ID')\n",
        "\n",
        "print(distance_df.sort_values(by='Distance'))"
      ],
      "metadata": {
        "colab": {
          "base_uri": "https://localhost:8080/"
        },
        "id": "MKzrOGB7an1u",
        "outputId": "0bcc0474-2732-4fec-b801-4516717513a3"
      },
      "execution_count": 18,
      "outputs": [
        {
          "output_type": "stream",
          "name": "stdout",
          "text": [
            "          Distance  Label\n",
            "Train_ID                 \n",
            "1             0.26      0\n",
            "0             1.22      0\n",
            "7             1.89      0\n",
            "11            2.02      1\n",
            "2             2.05      1\n",
            "10            2.12      1\n",
            "9             2.15      1\n",
            "12            2.21      1\n",
            "13            2.28      0\n",
            "3             2.59      1\n",
            "4             2.82      1\n",
            "8             2.86      1\n",
            "5             3.46      0\n",
            "6             3.88      1\n"
          ]
        }
      ]
    },
    {
      "cell_type": "code",
      "source": [
        "#Identifying the KNearest Neighbours based on the calculated distances, then assign the most common class as the predicted class\n",
        "\n",
        "# Use the k-NN Classifier to make predictions\n",
        "y_pred = knn_clf.predict(X_test)\n",
        "print(\"Label    :\",list(y_test))\n",
        "print(\"Prediction:\",list(y_pred))"
      ],
      "metadata": {
        "colab": {
          "base_uri": "https://localhost:8080/"
        },
        "id": "ASdGpl0zfj86",
        "outputId": "615db5d4-0859-40f4-871e-154cd255f5a0"
      },
      "execution_count": 19,
      "outputs": [
        {
          "output_type": "stream",
          "name": "stdout",
          "text": [
            "Label    : [0, 1, 1, 0, 0, 0, 1, 1, 1, 1, 1, 1, 0, 1]\n",
            "Prediction: [0, 1, 1, 1, 0, 1, 1, 1, 1, 1, 1, 0, 1, 1]\n"
          ]
        }
      ]
    },
    {
      "cell_type": "code",
      "source": [
        "# Evaluating the accuracy of the model\n",
        "from sklearn.metrics import accuracy_score\n",
        "\n",
        "# Evaluation Phase\n",
        "accuracy = accuracy_score(y_test, y_pred)\n",
        "print(f'Accuracy: {accuracy.round(4)*100}%')"
      ],
      "metadata": {
        "colab": {
          "base_uri": "https://localhost:8080/"
        },
        "id": "Te3reIVZg3fe",
        "outputId": "2032f5e8-8abe-4801-a071-3f8c2a6f634b"
      },
      "execution_count": 20,
      "outputs": [
        {
          "output_type": "stream",
          "name": "stdout",
          "text": [
            "Accuracy: 71.43%\n"
          ]
        }
      ]
    },
    {
      "cell_type": "markdown",
      "source": [
        "**Conclusion:**\n",
        "\n",
        "KNN’s power lies in its ability to make predictions based on the proximity of data points, without requiring complex training processes. The following are factors to observe to ensure a productive and accurate model:\n",
        "\n",
        "1. When the \"K\" is smaller, the model is more noise-sensitive and with a higher chance of accuracy.\n",
        "2. When picking a distance metrics, question your model and dataset before making the choice.\n",
        "2. Consider your weight function, where the options include: uniform= all neighbours are weighted equally & distance= close neighbours have greater influence.\n",
        "\n",
        "\n",
        "\n"
      ],
      "metadata": {
        "id": "Zls6fWcJierB"
      }
    },
    {
      "cell_type": "markdown",
      "source": [
        "**Pros:**\n",
        "\n",
        "1.   No Training Phase - Can incorporate new data without retraining.\n",
        "1.   Simplicity - easy to understand.\n",
        "2.   Versatility - Used for both regression and classification.\n",
        "2.   No Assumptions.\n",
        "\n"
      ],
      "metadata": {
        "id": "Df54MPzakrpq"
      }
    },
    {
      "cell_type": "markdown",
      "source": [
        "**Cons:**\n",
        "\n",
        "1.   Computationally Expensive.\n",
        "1.   Memory Intensive.\n",
        "2.   Sensitive to Irrelevant Features.\n",
        "2.   Curse of Dimensionality.\n",
        "\n"
      ],
      "metadata": {
        "id": "LV2HYg98liwd"
      }
    }
  ]
}